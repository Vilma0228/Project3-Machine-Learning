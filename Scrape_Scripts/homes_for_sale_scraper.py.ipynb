{
 "cells": [
  {
   "cell_type": "code",
   "execution_count": 4,
   "metadata": {},
   "outputs": [],
   "source": [
    "from urllib.request import urlopen\n",
    "import requests\n",
    "# from splinter import Browser\n",
    "from bs4 import BeautifulSoup\n",
    "\n",
    "base_url = 'https://www.realtytrac.com/mapsearch/real-estate/il/cook-county/p-'\n",
    "\n",
    "filename = \"homes_for_sale_final925.csv\"\n",
    "f = open(filename, \"w\")\n",
    "\n",
    "headers = \"Address \\n\"\n",
    "\n",
    "f.write(headers)\n",
    "\n",
    "def homes():\n",
    "# Iterate through all pages\n",
    "    urls = [base_url+str(x) for x in range(0,1605)]\n",
    "    for url in urls: \n",
    "#     for x in range(1,100):\n",
    "    # HTML object\n",
    "        req = requests.get(url)\n",
    "\n",
    "        html = req.content\n",
    "    # Parse HTML with Beautiful Soup\n",
    "        soup = BeautifulSoup(html, 'html.parser')\n",
    "\n",
    "        homes_sold = soup.find_all('div', {'class': 'basicdata'})\n",
    "\n",
    "\n",
    "        for home in homes_sold:\n",
    "    # Use Beautiful Soup's find() method to navigate and retrieve attributes\n",
    "            address_data = home.find('div', {'class': 'address-data'})\n",
    "            home_address = address_data.h2.a                  \n",
    "#             print('-----------')\n",
    "#             print(home_address.text)\n",
    "#             print(sell_price.text)\n",
    "            f.write(home_address.text+ \"\\n\")\n",
    "\n",
    "homes()\n",
    "\n",
    "\n",
    "\n",
    "f.close()"
   ]
  },
  {
   "cell_type": "code",
   "execution_count": null,
   "metadata": {},
   "outputs": [],
   "source": []
  }
 ],
 "metadata": {
  "kernelspec": {
   "display_name": "Python 3",
   "language": "python",
   "name": "python3"
  },
  "language_info": {
   "codemirror_mode": {
    "name": "ipython",
    "version": 3
   },
   "file_extension": ".py",
   "mimetype": "text/x-python",
   "name": "python",
   "nbconvert_exporter": "python",
   "pygments_lexer": "ipython3",
   "version": "3.6.4"
  }
 },
 "nbformat": 4,
 "nbformat_minor": 2
}
